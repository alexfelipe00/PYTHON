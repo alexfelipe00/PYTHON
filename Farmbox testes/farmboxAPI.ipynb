{
 "cells": [
  {
   "cell_type": "code",
   "execution_count": 2,
   "metadata": {},
   "outputs": [],
   "source": [
    "import requests\n",
    "import pandas as pd\n",
    "import itertools\n",
    "\n",
    "key = 'phenological_stage_samples'\n",
    "headers = (\n",
    "    {\n",
    "          'Authorization': 'whklOaTqRd7ZKVeqy6PQeg'\n",
    "    }\n",
    "  ) \n",
    "\n",
    "def API(key):\n",
    "  url = 'http://test.farmbox.cc/api/v1/{}' .format(key)\n",
    "  response = requests.get(url, headers=headers)\n",
    "  json_format = response.json()\n",
    "  \n",
    "  return json_format\n",
    "\n",
    "json_format= API(key)"
   ]
  },
  {
   "cell_type": "code",
   "execution_count": null,
   "metadata": {},
   "outputs": [],
   "source": [
    "l = []\n",
    "start_number = 1\n",
    "\n",
    "def transform(l, start_number, key, json_format):\n",
    "  print(key)\n",
    "  for number in itertools.count(start_number):\n",
    "    if(json_format['next_page_url'] == None and number != 1):\n",
    "      return df\n",
    "\n",
    "    else:\n",
    "      url = 'http://test.farmbox.cc/api/v1/{}?page={}' .format(key, number)\n",
    "      response = requests.get(url, headers=headers)\n",
    "      json_format = response.json()\n",
    "      pages = json_format['{}' .format(key)] \n",
    "      df = pd.DataFrame(pages)\n",
    "      l.append(df)\n",
    "      df = pd.concat(l)\n",
    "\n",
    "df = transform(l, start_number, key, json_format)"
   ]
  },
  {
   "cell_type": "code",
   "execution_count": null,
   "metadata": {},
   "outputs": [],
   "source": []
  }
 ],
 "metadata": {
  "kernelspec": {
   "display_name": "Python 3",
   "language": "python",
   "name": "python3"
  },
  "language_info": {
   "codemirror_mode": {
    "name": "ipython",
    "version": 3
   },
   "file_extension": ".py",
   "mimetype": "text/x-python",
   "name": "python",
   "nbconvert_exporter": "python",
   "pygments_lexer": "ipython3",
   "version": "3.10.4"
  },
  "orig_nbformat": 4,
  "vscode": {
   "interpreter": {
    "hash": "fee394918f42314f5b470525bbbfa2d814ef8dea64b86aa8945b7ee923b29849"
   }
  }
 },
 "nbformat": 4,
 "nbformat_minor": 2
}
