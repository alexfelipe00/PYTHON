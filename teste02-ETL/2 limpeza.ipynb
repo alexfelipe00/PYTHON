{
 "cells": [
  {
   "cell_type": "code",
   "execution_count": 1,
   "metadata": {},
   "outputs": [],
   "source": [
    "import pandas as pd"
   ]
  },
  {
   "cell_type": "code",
   "execution_count": 14,
   "metadata": {},
   "outputs": [
    {
     "data": {
      "text/html": [
       "<div>\n",
       "<style scoped>\n",
       "    .dataframe tbody tr th:only-of-type {\n",
       "        vertical-align: middle;\n",
       "    }\n",
       "\n",
       "    .dataframe tbody tr th {\n",
       "        vertical-align: top;\n",
       "    }\n",
       "\n",
       "    .dataframe thead th {\n",
       "        text-align: right;\n",
       "    }\n",
       "</style>\n",
       "<table border=\"1\" class=\"dataframe\">\n",
       "  <thead>\n",
       "    <tr style=\"text-align: right;\">\n",
       "      <th></th>\n",
       "      <th>codigo_ocorrencia</th>\n",
       "      <th>codigo_ocorrencia2</th>\n",
       "      <th>ocorrencia_classificacao</th>\n",
       "      <th>ocorrencia_cidade</th>\n",
       "      <th>ocorrencia_uf</th>\n",
       "      <th>ocorrencia_aerodromo</th>\n",
       "      <th>ocorrencia_dia</th>\n",
       "      <th>ocorrencia_hora</th>\n",
       "      <th>total_recomendacoes</th>\n",
       "    </tr>\n",
       "  </thead>\n",
       "  <tbody>\n",
       "    <tr>\n",
       "      <th>0</th>\n",
       "      <td>81027</td>\n",
       "      <td>81027</td>\n",
       "      <td>INCIDENTE GRAVE</td>\n",
       "      <td>SÃO PAULO</td>\n",
       "      <td>SP</td>\n",
       "      <td>SBSP</td>\n",
       "      <td>2022-10-09</td>\n",
       "      <td>16:30:00</td>\n",
       "      <td>0</td>\n",
       "    </tr>\n",
       "    <tr>\n",
       "      <th>1</th>\n",
       "      <td>81030</td>\n",
       "      <td>81030</td>\n",
       "      <td>INCIDENTE</td>\n",
       "      <td>VITÓRIA</td>\n",
       "      <td>ES</td>\n",
       "      <td>SBVT</td>\n",
       "      <td>2022-10-09</td>\n",
       "      <td>16:20:00</td>\n",
       "      <td>0</td>\n",
       "    </tr>\n",
       "    <tr>\n",
       "      <th>2</th>\n",
       "      <td>81023</td>\n",
       "      <td>81023</td>\n",
       "      <td>INCIDENTE GRAVE</td>\n",
       "      <td>AMERICANA</td>\n",
       "      <td>SP</td>\n",
       "      <td>SDAI</td>\n",
       "      <td>2022-10-06</td>\n",
       "      <td>15:30:00</td>\n",
       "      <td>0</td>\n",
       "    </tr>\n",
       "    <tr>\n",
       "      <th>3</th>\n",
       "      <td>81029</td>\n",
       "      <td>81029</td>\n",
       "      <td>INCIDENTE</td>\n",
       "      <td>BELO HORIZONTE</td>\n",
       "      <td>MG</td>\n",
       "      <td>SBBH</td>\n",
       "      <td>2022-10-06</td>\n",
       "      <td>00:44:00</td>\n",
       "      <td>0</td>\n",
       "    </tr>\n",
       "    <tr>\n",
       "      <th>4</th>\n",
       "      <td>81025</td>\n",
       "      <td>81025</td>\n",
       "      <td>INCIDENTE</td>\n",
       "      <td>MANAUS</td>\n",
       "      <td>AM</td>\n",
       "      <td>SBEG</td>\n",
       "      <td>2022-10-05</td>\n",
       "      <td>20:56:00</td>\n",
       "      <td>0</td>\n",
       "    </tr>\n",
       "  </tbody>\n",
       "</table>\n",
       "</div>"
      ],
      "text/plain": [
       "   codigo_ocorrencia  codigo_ocorrencia2 ocorrencia_classificacao  \\\n",
       "0              81027               81027          INCIDENTE GRAVE   \n",
       "1              81030               81030                INCIDENTE   \n",
       "2              81023               81023          INCIDENTE GRAVE   \n",
       "3              81029               81029                INCIDENTE   \n",
       "4              81025               81025                INCIDENTE   \n",
       "\n",
       "  ocorrencia_cidade ocorrencia_uf ocorrencia_aerodromo ocorrencia_dia  \\\n",
       "0         SÃO PAULO            SP                 SBSP     2022-10-09   \n",
       "1           VITÓRIA            ES                 SBVT     2022-10-09   \n",
       "2         AMERICANA            SP                 SDAI     2022-10-06   \n",
       "3    BELO HORIZONTE            MG                 SBBH     2022-10-06   \n",
       "4            MANAUS            AM                 SBEG     2022-10-05   \n",
       "\n",
       "  ocorrencia_hora  total_recomendacoes  \n",
       "0        16:30:00                    0  \n",
       "1        16:20:00                    0  \n",
       "2        15:30:00                    0  \n",
       "3        00:44:00                    0  \n",
       "4        20:56:00                    0  "
      ]
     },
     "execution_count": 14,
     "metadata": {},
     "output_type": "execute_result"
    }
   ],
   "source": [
    "# sep=\";\" é usado pois os dados neste arquivo é separado por ';'\n",
    "# parse_dates= usado para que a coluna que contém datas seja entendida como datas\n",
    "# dayfirst=True para deixar aaaa-mm-dd\n",
    "df = pd.read_csv(\"ocorrencia.csv\", sep=\";\", encoding='latin1', parse_dates=['ocorrencia_dia'], dayfirst=True)\n",
    "df.head()"
   ]
  },
  {
   "cell_type": "markdown",
   "metadata": {},
   "source": [
    "# LIMPEZA DOS DADOS"
   ]
  },
  {
   "cell_type": "code",
   "execution_count": null,
   "metadata": {},
   "outputs": [],
   "source": [
    "#Única célula linha, coluna\n",
    "df.loc[1,'ocorrencia_cidade']\n",
    "\n",
    "#Linha inteira, número da linha\n",
    "df.loc[3]\n",
    "\n",
    "#Linhas inteiras da 1 à 3\n",
    "df.loc[1:3]\n",
    "\n",
    "#Todos os dados de uma coluna\n",
    "df.loc[:, 'ocorrencia_cidade']"
   ]
  },
  {
   "cell_type": "code",
   "execution_count": 7,
   "metadata": {},
   "outputs": [],
   "source": [
    "#Verifica se possui valores unicos (sem repetição)\n",
    "df.codigo_ocorrencia.is_unique\n",
    "\n",
    "#Alterar coluna de index do dataframe\n",
    "df.set_index('codigo_ocorrencia', inplace=True)"
   ]
  },
  {
   "cell_type": "code",
   "execution_count": null,
   "metadata": {},
   "outputs": [],
   "source": [
    "df.loc[40324]"
   ]
  },
  {
   "cell_type": "code",
   "execution_count": 10,
   "metadata": {},
   "outputs": [],
   "source": [
    "#Reseta o index original\n",
    "df.reset_index(drop=True, inplace=True)"
   ]
  },
  {
   "cell_type": "markdown",
   "metadata": {},
   "source": [
    "### Alteração dos dados\n",
    "As alterações são feitas no dataframe, não no arquivo de origem"
   ]
  },
  {
   "cell_type": "code",
   "execution_count": 13,
   "metadata": {},
   "outputs": [
    {
     "data": {
      "text/html": [
       "<div>\n",
       "<style scoped>\n",
       "    .dataframe tbody tr th:only-of-type {\n",
       "        vertical-align: middle;\n",
       "    }\n",
       "\n",
       "    .dataframe tbody tr th {\n",
       "        vertical-align: top;\n",
       "    }\n",
       "\n",
       "    .dataframe thead th {\n",
       "        text-align: right;\n",
       "    }\n",
       "</style>\n",
       "<table border=\"1\" class=\"dataframe\">\n",
       "  <thead>\n",
       "    <tr style=\"text-align: right;\">\n",
       "      <th></th>\n",
       "      <th>codigo_ocorrencia2</th>\n",
       "      <th>ocorrencia_classificacao</th>\n",
       "      <th>ocorrencia_cidade</th>\n",
       "      <th>ocorrencia_uf</th>\n",
       "      <th>ocorrencia_aerodromo</th>\n",
       "      <th>ocorrencia_dia</th>\n",
       "      <th>ocorrencia_hora</th>\n",
       "      <th>total_recomendacoes</th>\n",
       "      <th>ococrrencia_aerodromo</th>\n",
       "    </tr>\n",
       "  </thead>\n",
       "  <tbody>\n",
       "    <tr>\n",
       "      <th>0</th>\n",
       "      <td>81027</td>\n",
       "      <td>INCIDENTE GRAVE</td>\n",
       "      <td>SÃO PAULO</td>\n",
       "      <td>SP</td>\n",
       "      <td></td>\n",
       "      <td>2022-10-09</td>\n",
       "      <td>16:30:00</td>\n",
       "      <td>0</td>\n",
       "      <td></td>\n",
       "    </tr>\n",
       "  </tbody>\n",
       "</table>\n",
       "</div>"
      ],
      "text/plain": [
       "   codigo_ocorrencia2 ocorrencia_classificacao ocorrencia_cidade  \\\n",
       "0               81027          INCIDENTE GRAVE         SÃO PAULO   \n",
       "\n",
       "  ocorrencia_uf ocorrencia_aerodromo ocorrencia_dia ocorrencia_hora  \\\n",
       "0            SP                          2022-10-09        16:30:00   \n",
       "\n",
       "   total_recomendacoes ococrrencia_aerodromo  \n",
       "0                    0                        "
      ]
     },
     "execution_count": 13,
     "metadata": {},
     "output_type": "execute_result"
    }
   ],
   "source": [
    "#Altera valor de uma coluna em uma linha\n",
    "df.loc[0, 'ocorrencia_aerodromo']=''\n",
    "\n",
    "#Altera todos valores de uma linha\n",
    "df.loc[1] = 20\n",
    "\n",
    "#Altera valor de todas as linhas de uma coluna\n",
    "df.loc[:, 'total_recomendacoes'] = 10\n",
    "\n",
    "#Fazer BACKUP dos dados de uma coluna\n",
    "df['ocorrencia_uf_bkp'] = df.ocorrencia_uf "
   ]
  },
  {
   "cell_type": "code",
   "execution_count": null,
   "metadata": {},
   "outputs": [],
   "source": [
    "#Alterar valor com filtro | Alterar para grave apenas nas ocorrencias_uf = SP\n",
    "df.loc[df.ocorrencia_uf == 'SP', ['ocorrencia_classificacao']] = 'GRAVE'"
   ]
  },
  {
   "cell_type": "markdown",
   "metadata": {},
   "source": [
    "Alterar valores inválidos das colunas:\n",
    "ocorrencia_uf: **\n",
    "ocorrencia_aerodromo: ###!, ####, ****, *****\n",
    "ocorrencia_hora: NULL\n"
   ]
  },
  {
   "cell_type": "code",
   "execution_count": 18,
   "metadata": {},
   "outputs": [],
   "source": [
    "#pd.NA é uma valor do pandas para valores não informados\n",
    "df.replace(['**', '***', '###!', '####', '****', '*****', 'NULL'], pd.NA, inplace=True)"
   ]
  },
  {
   "cell_type": "code",
   "execution_count": 22,
   "metadata": {},
   "outputs": [
    {
     "data": {
      "text/plain": [
       "codigo_ocorrencia              0\n",
       "codigo_ocorrencia2             0\n",
       "ocorrencia_classificacao       0\n",
       "ocorrencia_cidade              0\n",
       "ocorrencia_uf                  4\n",
       "ocorrencia_aerodromo        2417\n",
       "ocorrencia_dia                 0\n",
       "ocorrencia_hora                2\n",
       "total_recomendacoes            0\n",
       "dtype: int64"
      ]
     },
     "execution_count": 22,
     "metadata": {},
     "output_type": "execute_result"
    }
   ],
   "source": [
    "#Mostra quantidade de dados não informados\n",
    "df.isna().sum()"
   ]
  },
  {
   "cell_type": "code",
   "execution_count": null,
   "metadata": {},
   "outputs": [],
   "source": [
    "#Troca valores dados não informados por outro\n",
    "df.fillna('outro valor', inplace=True)\n",
    "\n"
   ]
  }
 ],
 "metadata": {
  "kernelspec": {
   "display_name": "Python 3.10.4 64-bit",
   "language": "python",
   "name": "python3"
  },
  "language_info": {
   "codemirror_mode": {
    "name": "ipython",
    "version": 3
   },
   "file_extension": ".py",
   "mimetype": "text/x-python",
   "name": "python",
   "nbconvert_exporter": "python",
   "pygments_lexer": "ipython3",
   "version": "3.10.4"
  },
  "orig_nbformat": 4,
  "vscode": {
   "interpreter": {
    "hash": "fee394918f42314f5b470525bbbfa2d814ef8dea64b86aa8945b7ee923b29849"
   }
  }
 },
 "nbformat": 4,
 "nbformat_minor": 2
}
